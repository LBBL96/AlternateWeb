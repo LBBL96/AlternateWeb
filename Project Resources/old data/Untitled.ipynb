{
 "cells": [
  {
   "cell_type": "code",
   "execution_count": 1,
   "metadata": {},
   "outputs": [],
   "source": [
    "import pandas as pd"
   ]
  },
  {
   "cell_type": "code",
   "execution_count": 2,
   "metadata": {},
   "outputs": [],
   "source": [
    "from sqlalchemy import create_engine\n",
    "from sqlalchemy.ext.declarative import declarative_base\n",
    "from sqlalchemy import Column, Integer, String, Float"
   ]
  },
  {
   "cell_type": "code",
   "execution_count": null,
   "metadata": {},
   "outputs": [],
   "source": [
    "# import csvs"
   ]
  },
  {
   "cell_type": "code",
   "execution_count": null,
   "metadata": {},
   "outputs": [],
   "source": [
    "# combine csvs that can be combined"
   ]
  },
  {
   "cell_type": "code",
   "execution_count": null,
   "metadata": {},
   "outputs": [],
   "source": [
    "# Base = declarative_base()\n",
    "\n",
    "# class Fast_Food(Base):\n",
    "#     __tablename__ = \"sales\"\n",
    "#     id = Column(Integer, primary_key = True)\n",
    "#     company = Column(\"company\", String(255), foreign_key = )\n",
    "    \n",
    "#     # keep going\n",
    "    \n"
   ]
  },
  {
   "cell_type": "code",
   "execution_count": 41,
   "metadata": {},
   "outputs": [],
   "source": [
    "df = pd.read_csv(\"assets/data/Cleaned_Categories.csv\")"
   ]
  },
  {
   "cell_type": "code",
   "execution_count": 42,
   "metadata": {},
   "outputs": [
    {
     "data": {
      "text/html": [
       "<div>\n",
       "<style scoped>\n",
       "    .dataframe tbody tr th:only-of-type {\n",
       "        vertical-align: middle;\n",
       "    }\n",
       "\n",
       "    .dataframe tbody tr th {\n",
       "        vertical-align: top;\n",
       "    }\n",
       "\n",
       "    .dataframe thead th {\n",
       "        text-align: right;\n",
       "    }\n",
       "</style>\n",
       "<table border=\"1\" class=\"dataframe\">\n",
       "  <thead>\n",
       "    <tr style=\"text-align: right;\">\n",
       "      <th></th>\n",
       "      <th>name</th>\n",
       "      <th>categories</th>\n",
       "      <th>city</th>\n",
       "      <th>state</th>\n",
       "      <th>postalCode</th>\n",
       "      <th>latitude</th>\n",
       "      <th>longitude</th>\n",
       "    </tr>\n",
       "  </thead>\n",
       "  <tbody>\n",
       "    <tr>\n",
       "      <th>0</th>\n",
       "      <td>90 Miles Cuban Cafe</td>\n",
       "      <td>Ethnic</td>\n",
       "      <td>Chicago</td>\n",
       "      <td>IL</td>\n",
       "      <td>60618</td>\n",
       "      <td>41.937897</td>\n",
       "      <td>-87.685781</td>\n",
       "    </tr>\n",
       "    <tr>\n",
       "      <th>1</th>\n",
       "      <td>A's Ace Burgers</td>\n",
       "      <td>Burger</td>\n",
       "      <td>Dana Point</td>\n",
       "      <td>CA</td>\n",
       "      <td>92629</td>\n",
       "      <td>33.464500</td>\n",
       "      <td>-117.684500</td>\n",
       "    </tr>\n",
       "    <tr>\n",
       "      <th>2</th>\n",
       "      <td>A&amp;W/Long John Silvers</td>\n",
       "      <td>Seafood</td>\n",
       "      <td>Belle Vernon</td>\n",
       "      <td>PA</td>\n",
       "      <td>15012</td>\n",
       "      <td>40.136482</td>\n",
       "      <td>-79.842820</td>\n",
       "    </tr>\n",
       "    <tr>\n",
       "      <th>3</th>\n",
       "      <td>Abruzzi Pizza</td>\n",
       "      <td>Pizza</td>\n",
       "      <td>Brookhaven</td>\n",
       "      <td>PA</td>\n",
       "      <td>19015</td>\n",
       "      <td>39.872570</td>\n",
       "      <td>-75.387220</td>\n",
       "    </tr>\n",
       "    <tr>\n",
       "      <th>4</th>\n",
       "      <td>Acropolis Gyro Palace</td>\n",
       "      <td>Ethnic</td>\n",
       "      <td>Columbus</td>\n",
       "      <td>OH</td>\n",
       "      <td>43214</td>\n",
       "      <td>40.071324</td>\n",
       "      <td>-83.018535</td>\n",
       "    </tr>\n",
       "  </tbody>\n",
       "</table>\n",
       "</div>"
      ],
      "text/plain": [
       "                    name categories          city state postalCode   latitude  \\\n",
       "0    90 Miles Cuban Cafe     Ethnic       Chicago    IL      60618  41.937897   \n",
       "1        A's Ace Burgers     Burger    Dana Point    CA      92629  33.464500   \n",
       "2  A&W/Long John Silvers    Seafood  Belle Vernon    PA      15012  40.136482   \n",
       "3          Abruzzi Pizza      Pizza    Brookhaven    PA      19015  39.872570   \n",
       "4  Acropolis Gyro Palace     Ethnic      Columbus    OH      43214  40.071324   \n",
       "\n",
       "    longitude  \n",
       "0  -87.685781  \n",
       "1 -117.684500  \n",
       "2  -79.842820  \n",
       "3  -75.387220  \n",
       "4  -83.018535  "
      ]
     },
     "execution_count": 42,
     "metadata": {},
     "output_type": "execute_result"
    }
   ],
   "source": [
    "df.head()"
   ]
  },
  {
   "cell_type": "code",
   "execution_count": 4,
   "metadata": {},
   "outputs": [
    {
     "data": {
      "text/html": [
       "<div>\n",
       "<style scoped>\n",
       "    .dataframe tbody tr th:only-of-type {\n",
       "        vertical-align: middle;\n",
       "    }\n",
       "\n",
       "    .dataframe tbody tr th {\n",
       "        vertical-align: top;\n",
       "    }\n",
       "\n",
       "    .dataframe thead th {\n",
       "        text-align: right;\n",
       "    }\n",
       "</style>\n",
       "<table border=\"1\" class=\"dataframe\">\n",
       "  <thead>\n",
       "    <tr style=\"text-align: right;\">\n",
       "      <th></th>\n",
       "      <th>state abbr</th>\n",
       "      <th>number of restaurants</th>\n",
       "      <th>poverty</th>\n",
       "      <th>povertyMoe</th>\n",
       "      <th>age</th>\n",
       "      <th>ageMoe</th>\n",
       "      <th>income</th>\n",
       "      <th>incomeMoe</th>\n",
       "      <th>healthcare</th>\n",
       "      <th>healthcareLow</th>\n",
       "      <th>healthcareHigh</th>\n",
       "      <th>obesity</th>\n",
       "      <th>obesityLow</th>\n",
       "      <th>obesityHigh</th>\n",
       "      <th>smokes</th>\n",
       "      <th>smokesLow</th>\n",
       "      <th>smokesHigh</th>\n",
       "      <th>rank</th>\n",
       "      <th>﻿State</th>\n",
       "      <th>population</th>\n",
       "    </tr>\n",
       "  </thead>\n",
       "  <tbody>\n",
       "    <tr>\n",
       "      <th>0</th>\n",
       "      <td>CA</td>\n",
       "      <td>1201</td>\n",
       "      <td>16.4</td>\n",
       "      <td>0.2</td>\n",
       "      <td>36.0</td>\n",
       "      <td>0.1</td>\n",
       "      <td>61933</td>\n",
       "      <td>238</td>\n",
       "      <td>14.8</td>\n",
       "      <td>13.8</td>\n",
       "      <td>15.8</td>\n",
       "      <td>24.7</td>\n",
       "      <td>23.5</td>\n",
       "      <td>25.9</td>\n",
       "      <td>12.9</td>\n",
       "      <td>11.9</td>\n",
       "      <td>13.8</td>\n",
       "      <td>1</td>\n",
       "      <td>California</td>\n",
       "      <td>39557045</td>\n",
       "    </tr>\n",
       "    <tr>\n",
       "      <th>1</th>\n",
       "      <td>TX</td>\n",
       "      <td>811</td>\n",
       "      <td>17.2</td>\n",
       "      <td>0.2</td>\n",
       "      <td>34.3</td>\n",
       "      <td>0.1</td>\n",
       "      <td>53035</td>\n",
       "      <td>377</td>\n",
       "      <td>24.9</td>\n",
       "      <td>23.7</td>\n",
       "      <td>26.1</td>\n",
       "      <td>31.9</td>\n",
       "      <td>30.6</td>\n",
       "      <td>33.3</td>\n",
       "      <td>14.5</td>\n",
       "      <td>13.6</td>\n",
       "      <td>15.5</td>\n",
       "      <td>2</td>\n",
       "      <td>Texas</td>\n",
       "      <td>28701845</td>\n",
       "    </tr>\n",
       "    <tr>\n",
       "      <th>2</th>\n",
       "      <td>FL</td>\n",
       "      <td>621</td>\n",
       "      <td>16.5</td>\n",
       "      <td>0.3</td>\n",
       "      <td>41.6</td>\n",
       "      <td>0.1</td>\n",
       "      <td>47463</td>\n",
       "      <td>329</td>\n",
       "      <td>17.6</td>\n",
       "      <td>16.4</td>\n",
       "      <td>18.8</td>\n",
       "      <td>26.2</td>\n",
       "      <td>25.0</td>\n",
       "      <td>27.5</td>\n",
       "      <td>17.7</td>\n",
       "      <td>16.5</td>\n",
       "      <td>18.8</td>\n",
       "      <td>3</td>\n",
       "      <td>Florida</td>\n",
       "      <td>21299325</td>\n",
       "    </tr>\n",
       "    <tr>\n",
       "      <th>3</th>\n",
       "      <td>OH</td>\n",
       "      <td>522</td>\n",
       "      <td>15.8</td>\n",
       "      <td>0.3</td>\n",
       "      <td>39.4</td>\n",
       "      <td>0.1</td>\n",
       "      <td>49308</td>\n",
       "      <td>363</td>\n",
       "      <td>10.2</td>\n",
       "      <td>9.2</td>\n",
       "      <td>11.3</td>\n",
       "      <td>32.6</td>\n",
       "      <td>31.2</td>\n",
       "      <td>34.1</td>\n",
       "      <td>21.0</td>\n",
       "      <td>19.7</td>\n",
       "      <td>22.3</td>\n",
       "      <td>7</td>\n",
       "      <td>Ohio</td>\n",
       "      <td>11689442</td>\n",
       "    </tr>\n",
       "    <tr>\n",
       "      <th>4</th>\n",
       "      <td>GA</td>\n",
       "      <td>420</td>\n",
       "      <td>18.3</td>\n",
       "      <td>0.4</td>\n",
       "      <td>36.1</td>\n",
       "      <td>0.1</td>\n",
       "      <td>49321</td>\n",
       "      <td>543</td>\n",
       "      <td>20.9</td>\n",
       "      <td>19.3</td>\n",
       "      <td>22.5</td>\n",
       "      <td>30.5</td>\n",
       "      <td>28.9</td>\n",
       "      <td>32.1</td>\n",
       "      <td>17.4</td>\n",
       "      <td>15.9</td>\n",
       "      <td>18.8</td>\n",
       "      <td>8</td>\n",
       "      <td>Georgia</td>\n",
       "      <td>10519475</td>\n",
       "    </tr>\n",
       "  </tbody>\n",
       "</table>\n",
       "</div>"
      ],
      "text/plain": [
       "  state abbr  number of restaurants  poverty  povertyMoe   age  ageMoe  \\\n",
       "0         CA                   1201     16.4         0.2  36.0     0.1   \n",
       "1         TX                    811     17.2         0.2  34.3     0.1   \n",
       "2         FL                    621     16.5         0.3  41.6     0.1   \n",
       "3         OH                    522     15.8         0.3  39.4     0.1   \n",
       "4         GA                    420     18.3         0.4  36.1     0.1   \n",
       "\n",
       "   income  incomeMoe  healthcare  healthcareLow  healthcareHigh  obesity  \\\n",
       "0   61933        238        14.8           13.8            15.8     24.7   \n",
       "1   53035        377        24.9           23.7            26.1     31.9   \n",
       "2   47463        329        17.6           16.4            18.8     26.2   \n",
       "3   49308        363        10.2            9.2            11.3     32.6   \n",
       "4   49321        543        20.9           19.3            22.5     30.5   \n",
       "\n",
       "   obesityLow  obesityHigh  smokes  smokesLow  smokesHigh  rank      ﻿State  \\\n",
       "0        23.5         25.9    12.9       11.9        13.8     1  California   \n",
       "1        30.6         33.3    14.5       13.6        15.5     2       Texas   \n",
       "2        25.0         27.5    17.7       16.5        18.8     3     Florida   \n",
       "3        31.2         34.1    21.0       19.7        22.3     7        Ohio   \n",
       "4        28.9         32.1    17.4       15.9        18.8     8     Georgia   \n",
       "\n",
       "   population  \n",
       "0    39557045  \n",
       "1    28701845  \n",
       "2    21299325  \n",
       "3    11689442  \n",
       "4    10519475  "
      ]
     },
     "execution_count": 4,
     "metadata": {},
     "output_type": "execute_result"
    }
   ],
   "source": [
    "demo = pd.read_csv(\"assets/data/State_Pop_Demographics_Restaurants.csv\")\n",
    "demo.head()"
   ]
  },
  {
   "cell_type": "code",
   "execution_count": 8,
   "metadata": {},
   "outputs": [],
   "source": [
    "# demo.nunique()"
   ]
  },
  {
   "cell_type": "code",
   "execution_count": 7,
   "metadata": {},
   "outputs": [
    {
     "data": {
      "text/plain": [
       "326464979"
      ]
     },
     "execution_count": 7,
     "metadata": {},
     "output_type": "execute_result"
    }
   ],
   "source": [
    "US_population = demo.population.sum()\n",
    "US_population"
   ]
  },
  {
   "cell_type": "code",
   "execution_count": 10,
   "metadata": {},
   "outputs": [
    {
     "data": {
      "text/html": [
       "<div>\n",
       "<style scoped>\n",
       "    .dataframe tbody tr th:only-of-type {\n",
       "        vertical-align: middle;\n",
       "    }\n",
       "\n",
       "    .dataframe tbody tr th {\n",
       "        vertical-align: top;\n",
       "    }\n",
       "\n",
       "    .dataframe thead th {\n",
       "        text-align: right;\n",
       "    }\n",
       "</style>\n",
       "<table border=\"1\" class=\"dataframe\">\n",
       "  <thead>\n",
       "    <tr style=\"text-align: right;\">\n",
       "      <th></th>\n",
       "      <th>Company</th>\n",
       "      <th>Category</th>\n",
       "      <th>2016 U.S. Systemwide Sales (millions)</th>\n",
       "      <th>2016 U.S. Average Sales Per Unit (thousands)</th>\n",
       "      <th>Number of Franchised Units in 2016</th>\n",
       "      <th>Number of Company Units in 2016</th>\n",
       "      <th>Total Units in 2016</th>\n",
       "    </tr>\n",
       "  </thead>\n",
       "  <tbody>\n",
       "    <tr>\n",
       "      <th>0</th>\n",
       "      <td>McDonald's</td>\n",
       "      <td>Burger</td>\n",
       "      <td>36389.00</td>\n",
       "      <td>2550.00</td>\n",
       "      <td>13046</td>\n",
       "      <td>1109</td>\n",
       "      <td>14155</td>\n",
       "    </tr>\n",
       "    <tr>\n",
       "      <th>1</th>\n",
       "      <td>Starbucks</td>\n",
       "      <td>Snack</td>\n",
       "      <td>14795.40</td>\n",
       "      <td>1123.25</td>\n",
       "      <td>5292</td>\n",
       "      <td>7880</td>\n",
       "      <td>13172</td>\n",
       "    </tr>\n",
       "    <tr>\n",
       "      <th>2</th>\n",
       "      <td>Subway</td>\n",
       "      <td>Sandwich</td>\n",
       "      <td>11300.00</td>\n",
       "      <td>422.52</td>\n",
       "      <td>26744</td>\n",
       "      <td>0</td>\n",
       "      <td>26744</td>\n",
       "    </tr>\n",
       "    <tr>\n",
       "      <th>3</th>\n",
       "      <td>Wendy's</td>\n",
       "      <td>Burger</td>\n",
       "      <td>9510.00</td>\n",
       "      <td>1454.80</td>\n",
       "      <td>6207</td>\n",
       "      <td>330</td>\n",
       "      <td>6537</td>\n",
       "    </tr>\n",
       "    <tr>\n",
       "      <th>4</th>\n",
       "      <td>Burger King</td>\n",
       "      <td>Burger</td>\n",
       "      <td>9749.19</td>\n",
       "      <td>1361.43</td>\n",
       "      <td>7111</td>\n",
       "      <td>50</td>\n",
       "      <td>7161</td>\n",
       "    </tr>\n",
       "  </tbody>\n",
       "</table>\n",
       "</div>"
      ],
      "text/plain": [
       "       Company  Category  2016 U.S. Systemwide Sales (millions)  \\\n",
       "0   McDonald's    Burger                               36389.00   \n",
       "1    Starbucks     Snack                               14795.40   \n",
       "2       Subway  Sandwich                               11300.00   \n",
       "3      Wendy's    Burger                                9510.00   \n",
       "4  Burger King    Burger                                9749.19   \n",
       "\n",
       "   2016 U.S. Average Sales Per Unit (thousands)  \\\n",
       "0                                       2550.00   \n",
       "1                                       1123.25   \n",
       "2                                        422.52   \n",
       "3                                       1454.80   \n",
       "4                                       1361.43   \n",
       "\n",
       "   Number of Franchised Units in 2016  Number of Company Units in 2016  \\\n",
       "0                               13046                             1109   \n",
       "1                                5292                             7880   \n",
       "2                               26744                                0   \n",
       "3                                6207                              330   \n",
       "4                                7111                               50   \n",
       "\n",
       "   Total Units in 2016  \n",
       "0                14155  \n",
       "1                13172  \n",
       "2                26744  \n",
       "3                 6537  \n",
       "4                 7161  "
      ]
     },
     "execution_count": 10,
     "metadata": {},
     "output_type": "execute_result"
    }
   ],
   "source": [
    "top_50 = pd.read_csv(\"assets/data/Fast_Food_Sales.csv\")\n",
    "top_50.head()"
   ]
  },
  {
   "cell_type": "code",
   "execution_count": 13,
   "metadata": {},
   "outputs": [
    {
     "data": {
      "text/plain": [
       "2043.062099479323"
      ]
     },
     "execution_count": 13,
     "metadata": {},
     "output_type": "execute_result"
    }
   ],
   "source": [
    "# The number of restaurants in the top 50 in terms of locations is one for every 2043 Americans\n",
    "per_capita_rest = US_population/top_50[\"Total Units in 2016\"].sum()\n",
    "per_capita_rest"
   ]
  },
  {
   "cell_type": "code",
   "execution_count": 15,
   "metadata": {},
   "outputs": [
    {
     "data": {
      "text/plain": [
       "23063.5802896503"
      ]
     },
     "execution_count": 15,
     "metadata": {},
     "output_type": "execute_result"
    }
   ],
   "source": [
    "# McDonald's per capita -- one for every 23,000 Americans \n",
    "US_population/14155"
   ]
  },
  {
   "cell_type": "code",
   "execution_count": 16,
   "metadata": {},
   "outputs": [
    {
     "data": {
      "text/plain": [
       "12207.036307209093"
      ]
     },
     "execution_count": 16,
     "metadata": {},
     "output_type": "execute_result"
    }
   ],
   "source": [
    "# Subway per capita -- one for every 12,200 Americans\n",
    "US_population/26744"
   ]
  },
  {
   "cell_type": "code",
   "execution_count": 19,
   "metadata": {},
   "outputs": [],
   "source": [
    "top_5_sales = top_50.sort_values(by = \"2016 U.S. Systemwide Sales (millions)\", ascending = False).head()"
   ]
  },
  {
   "cell_type": "code",
   "execution_count": 25,
   "metadata": {},
   "outputs": [],
   "source": [
    "top_5_location = top_50.sort_values(by = \"Total Units in 2016\", ascending = False).head()"
   ]
  },
  {
   "cell_type": "code",
   "execution_count": 26,
   "metadata": {},
   "outputs": [],
   "source": [
    "top_5_sales_per_location = top_50.sort_values(by = \"2016 U.S. Average Sales Per Unit (thousands)\", \n",
    "                                          ascending = False).head()"
   ]
  },
  {
   "cell_type": "code",
   "execution_count": 75,
   "metadata": {},
   "outputs": [
    {
     "data": {
      "text/plain": [
       "189363670000.0"
      ]
     },
     "execution_count": 75,
     "metadata": {},
     "output_type": "execute_result"
    }
   ],
   "source": [
    "top_50[\"2016 U.S. Systemwide Sales (millions)\"].sum()*1000000\n"
   ]
  },
  {
   "cell_type": "code",
   "execution_count": 35,
   "metadata": {},
   "outputs": [
    {
     "data": {
      "text/plain": [
       "1724.0106246356547"
      ]
     },
     "execution_count": 35,
     "metadata": {},
     "output_type": "execute_result"
    }
   ],
   "source": [
    "US_population/top_50[\"2016 U.S. Systemwide Sales (millions)\"].sum()"
   ]
  },
  {
   "cell_type": "code",
   "execution_count": 47,
   "metadata": {},
   "outputs": [
    {
     "data": {
      "text/plain": [
       "name           490\n",
       "categories      26\n",
       "city          2759\n",
       "state           50\n",
       "postalCode    5419\n",
       "latitude      9286\n",
       "longitude     9291\n",
       "dtype: int64"
      ]
     },
     "execution_count": 47,
     "metadata": {},
     "output_type": "execute_result"
    }
   ],
   "source": [
    "df.nunique()"
   ]
  },
  {
   "cell_type": "code",
   "execution_count": 46,
   "metadata": {},
   "outputs": [
    {
     "data": {
      "text/plain": [
       "name\n",
       "McDonald's     1949\n",
       "Taco Bell      1036\n",
       "Subway          849\n",
       "Burger King     835\n",
       "Arby's          669\n",
       "dtype: int64"
      ]
     },
     "execution_count": 46,
     "metadata": {},
     "output_type": "execute_result"
    }
   ],
   "source": [
    "df.groupby(\"name\").size().nlargest()"
   ]
  },
  {
   "cell_type": "code",
   "execution_count": 50,
   "metadata": {},
   "outputs": [
    {
     "data": {
      "text/plain": [
       "categories\n",
       "Burger      4712\n",
       "Sandwich    1843\n",
       "Ethnic      1455\n",
       "Chicken      652\n",
       "Pizza        588\n",
       "Snack        448\n",
       "dtype: int64"
      ]
     },
     "execution_count": 50,
     "metadata": {},
     "output_type": "execute_result"
    }
   ],
   "source": [
    "df.groupby(\"categories\").size().nlargest(6)"
   ]
  },
  {
   "cell_type": "code",
   "execution_count": 52,
   "metadata": {},
   "outputs": [
    {
     "data": {
      "text/plain": [
       "(-1.1145258969613883,\n",
       " 1.1006917129393532,\n",
       " -1.1014703557536354,\n",
       " 1.1110041936945576)"
      ]
     },
     "execution_count": 52,
     "metadata": {},
     "output_type": "execute_result"
    },
    {
     "data": {
      "image/png": "[encoded data removed]",
      "text/plain": [
       "<Figure size 432x288 with 1 Axes>"
      ]
     },
     "metadata": {},
     "output_type": "display_data"
    }
   ],
   "source": [
    "df.groupby(\"categories\").size().nlargest(6).plot(kind = \"pie\", autopct=\"%1.1f%%\").axis(\"equal\")"
   ]
  },
  {
   "cell_type": "code",
   "execution_count": 53,
   "metadata": {},
   "outputs": [
    {
     "data": {
      "text/plain": [
       "(-1.121108900596207,\n",
       " 1.1010051857426766,\n",
       " -1.1143070391181833,\n",
       " 1.1190411582424262)"
      ]
     },
     "execution_count": 53,
     "metadata": {},
     "output_type": "execute_result"
    },
    {
     "data": {
      "image/png": "[encoded data removed]",
      "text/plain": [
       "<Figure size 432x288 with 1 Axes>"
      ]
     },
     "metadata": {},
     "output_type": "display_data"
    }
   ],
   "source": [
    "df.groupby(\"name\").size().nlargest().plot(kind = \"pie\", autopct=\"%1.1f%%\").axis(\"equal\")"
   ]
  },
  {
   "cell_type": "code",
   "execution_count": 55,
   "metadata": {},
   "outputs": [
    {
     "data": {
      "text/plain": [
       "(-1.1000000113671495,\n",
       " 1.100000021251625,\n",
       " -1.1179348023854199,\n",
       " 1.1179347973199905)"
      ]
     },
     "execution_count": 55,
     "metadata": {},
     "output_type": "execute_result"
    },
    {
     "data": {
      "image/png": "[encoded data removed]",
      "text/plain": [
       "<Figure size 432x288 with 1 Axes>"
      ]
     },
     "metadata": {},
     "output_type": "display_data"
    }
   ],
   "source": [
    "top_50.groupby(\"Total Units in 2016\").size().nlargest().plot(kind = \"pie\", autopct=\"%1.1f%%\").axis(\"equal\")"
   ]
  },
  {
   "cell_type": "code",
   "execution_count": 68,
   "metadata": {},
   "outputs": [
    {
     "data": {
      "text/html": [
       "<div>\n",
       "<style scoped>\n",
       "    .dataframe tbody tr th:only-of-type {\n",
       "        vertical-align: middle;\n",
       "    }\n",
       "\n",
       "    .dataframe tbody tr th {\n",
       "        vertical-align: top;\n",
       "    }\n",
       "\n",
       "    .dataframe thead th {\n",
       "        text-align: right;\n",
       "    }\n",
       "</style>\n",
       "<table border=\"1\" class=\"dataframe\">\n",
       "  <thead>\n",
       "    <tr style=\"text-align: right;\">\n",
       "      <th></th>\n",
       "      <th>Company</th>\n",
       "      <th>Category</th>\n",
       "      <th>2016 U.S. Systemwide Sales (millions)</th>\n",
       "      <th>2016 U.S. Average Sales Per Unit (thousands)</th>\n",
       "      <th>Number of Franchised Units in 2016</th>\n",
       "      <th>Number of Company Units in 2016</th>\n",
       "      <th>Total Units in 2016</th>\n",
       "    </tr>\n",
       "  </thead>\n",
       "  <tbody>\n",
       "    <tr>\n",
       "      <th>0</th>\n",
       "      <td>McDonald's</td>\n",
       "      <td>Burger</td>\n",
       "      <td>36389.00</td>\n",
       "      <td>2550.00</td>\n",
       "      <td>13046</td>\n",
       "      <td>1109</td>\n",
       "      <td>14155</td>\n",
       "    </tr>\n",
       "    <tr>\n",
       "      <th>1</th>\n",
       "      <td>Starbucks</td>\n",
       "      <td>Snack</td>\n",
       "      <td>14795.40</td>\n",
       "      <td>1123.25</td>\n",
       "      <td>5292</td>\n",
       "      <td>7880</td>\n",
       "      <td>13172</td>\n",
       "    </tr>\n",
       "    <tr>\n",
       "      <th>2</th>\n",
       "      <td>Subway</td>\n",
       "      <td>Sandwich</td>\n",
       "      <td>11300.00</td>\n",
       "      <td>422.52</td>\n",
       "      <td>26744</td>\n",
       "      <td>0</td>\n",
       "      <td>26744</td>\n",
       "    </tr>\n",
       "    <tr>\n",
       "      <th>4</th>\n",
       "      <td>Burger King</td>\n",
       "      <td>Burger</td>\n",
       "      <td>9749.19</td>\n",
       "      <td>1361.43</td>\n",
       "      <td>7111</td>\n",
       "      <td>50</td>\n",
       "      <td>7161</td>\n",
       "    </tr>\n",
       "    <tr>\n",
       "      <th>3</th>\n",
       "      <td>Wendy's</td>\n",
       "      <td>Burger</td>\n",
       "      <td>9510.00</td>\n",
       "      <td>1454.80</td>\n",
       "      <td>6207</td>\n",
       "      <td>330</td>\n",
       "      <td>6537</td>\n",
       "    </tr>\n",
       "  </tbody>\n",
       "</table>\n",
       "</div>"
      ],
      "text/plain": [
       "       Company  Category  2016 U.S. Systemwide Sales (millions)  \\\n",
       "0   McDonald's    Burger                               36389.00   \n",
       "1    Starbucks     Snack                               14795.40   \n",
       "2       Subway  Sandwich                               11300.00   \n",
       "4  Burger King    Burger                                9749.19   \n",
       "3      Wendy's    Burger                                9510.00   \n",
       "\n",
       "   2016 U.S. Average Sales Per Unit (thousands)  \\\n",
       "0                                       2550.00   \n",
       "1                                       1123.25   \n",
       "2                                        422.52   \n",
       "4                                       1361.43   \n",
       "3                                       1454.80   \n",
       "\n",
       "   Number of Franchised Units in 2016  Number of Company Units in 2016  \\\n",
       "0                               13046                             1109   \n",
       "1                                5292                             7880   \n",
       "2                               26744                                0   \n",
       "4                                7111                               50   \n",
       "3                                6207                              330   \n",
       "\n",
       "   Total Units in 2016  \n",
       "0                14155  \n",
       "1                13172  \n",
       "2                26744  \n",
       "4                 7161  \n",
       "3                 6537  "
      ]
     },
     "execution_count": 68,
     "metadata": {},
     "output_type": "execute_result"
    }
   ],
   "source": [
    "top_5_sales"
   ]
  },
  {
   "cell_type": "code",
   "execution_count": 76,
   "metadata": {},
   "outputs": [
    {
     "data": {
      "text/html": [
       "<div>\n",
       "<style scoped>\n",
       "    .dataframe tbody tr th:only-of-type {\n",
       "        vertical-align: middle;\n",
       "    }\n",
       "\n",
       "    .dataframe tbody tr th {\n",
       "        vertical-align: top;\n",
       "    }\n",
       "\n",
       "    .dataframe thead th {\n",
       "        text-align: right;\n",
       "    }\n",
       "</style>\n",
       "<table border=\"1\" class=\"dataframe\">\n",
       "  <thead>\n",
       "    <tr style=\"text-align: right;\">\n",
       "      <th></th>\n",
       "      <th>Company</th>\n",
       "      <th>Category</th>\n",
       "      <th>2016 U.S. Systemwide Sales (millions)</th>\n",
       "      <th>2016 U.S. Average Sales Per Unit (thousands)</th>\n",
       "      <th>Number of Franchised Units in 2016</th>\n",
       "      <th>Number of Company Units in 2016</th>\n",
       "      <th>Total Units in 2016</th>\n",
       "    </tr>\n",
       "  </thead>\n",
       "  <tbody>\n",
       "    <tr>\n",
       "      <th>2</th>\n",
       "      <td>Subway</td>\n",
       "      <td>Sandwich</td>\n",
       "      <td>11300.0</td>\n",
       "      <td>422.52</td>\n",
       "      <td>26744</td>\n",
       "      <td>0</td>\n",
       "      <td>26744</td>\n",
       "    </tr>\n",
       "    <tr>\n",
       "      <th>0</th>\n",
       "      <td>McDonald's</td>\n",
       "      <td>Burger</td>\n",
       "      <td>36389.0</td>\n",
       "      <td>2550.00</td>\n",
       "      <td>13046</td>\n",
       "      <td>1109</td>\n",
       "      <td>14155</td>\n",
       "    </tr>\n",
       "    <tr>\n",
       "      <th>1</th>\n",
       "      <td>Starbucks</td>\n",
       "      <td>Snack</td>\n",
       "      <td>14795.4</td>\n",
       "      <td>1123.25</td>\n",
       "      <td>5292</td>\n",
       "      <td>7880</td>\n",
       "      <td>13172</td>\n",
       "    </tr>\n",
       "    <tr>\n",
       "      <th>6</th>\n",
       "      <td>Dunkin' Donuts</td>\n",
       "      <td>Snack</td>\n",
       "      <td>8200.0</td>\n",
       "      <td>928.86</td>\n",
       "      <td>8828</td>\n",
       "      <td>0</td>\n",
       "      <td>8828</td>\n",
       "    </tr>\n",
       "    <tr>\n",
       "      <th>8</th>\n",
       "      <td>Pizza Hut</td>\n",
       "      <td>Pizza</td>\n",
       "      <td>5751.4</td>\n",
       "      <td>740.00</td>\n",
       "      <td>7371</td>\n",
       "      <td>318</td>\n",
       "      <td>7689</td>\n",
       "    </tr>\n",
       "  </tbody>\n",
       "</table>\n",
       "</div>"
      ],
      "text/plain": [
       "          Company  Category  2016 U.S. Systemwide Sales (millions)  \\\n",
       "2          Subway  Sandwich                                11300.0   \n",
       "0      McDonald's    Burger                                36389.0   \n",
       "1       Starbucks     Snack                                14795.4   \n",
       "6  Dunkin' Donuts     Snack                                 8200.0   \n",
       "8       Pizza Hut     Pizza                                 5751.4   \n",
       "\n",
       "   2016 U.S. Average Sales Per Unit (thousands)  \\\n",
       "2                                        422.52   \n",
       "0                                       2550.00   \n",
       "1                                       1123.25   \n",
       "6                                        928.86   \n",
       "8                                        740.00   \n",
       "\n",
       "   Number of Franchised Units in 2016  Number of Company Units in 2016  \\\n",
       "2                               26744                                0   \n",
       "0                               13046                             1109   \n",
       "1                                5292                             7880   \n",
       "6                                8828                                0   \n",
       "8                                7371                              318   \n",
       "\n",
       "   Total Units in 2016  \n",
       "2                26744  \n",
       "0                14155  \n",
       "1                13172  \n",
       "6                 8828  \n",
       "8                 7689  "
      ]
     },
     "execution_count": 76,
     "metadata": {},
     "output_type": "execute_result"
    }
   ],
   "source": [
    "top_5_location"
   ]
  },
  {
   "cell_type": "code",
   "execution_count": 63,
   "metadata": {},
   "outputs": [
    {
     "data": {
      "text/plain": [
       "state\n",
       "AK      16\n",
       "AL       6\n",
       "AR     102\n",
       "AZ     329\n",
       "CA    1196\n",
       "Name: name, dtype: int64"
      ]
     },
     "execution_count": 63,
     "metadata": {},
     "output_type": "execute_result"
    }
   ],
   "source": [
    "df.groupby(\"state\")[\"name\"].count().head()"
   ]
  },
  {
   "cell_type": "code",
   "execution_count": 77,
   "metadata": {},
   "outputs": [
    {
     "data": {
      "text/html": [
       "<div>\n",
       "<style scoped>\n",
       "    .dataframe tbody tr th:only-of-type {\n",
       "        vertical-align: middle;\n",
       "    }\n",
       "\n",
       "    .dataframe tbody tr th {\n",
       "        vertical-align: top;\n",
       "    }\n",
       "\n",
       "    .dataframe thead th {\n",
       "        text-align: right;\n",
       "    }\n",
       "</style>\n",
       "<table border=\"1\" class=\"dataframe\">\n",
       "  <thead>\n",
       "    <tr style=\"text-align: right;\">\n",
       "      <th></th>\n",
       "      <th>Company</th>\n",
       "      <th>Category</th>\n",
       "      <th>2016 U.S. Systemwide Sales (millions)</th>\n",
       "      <th>2016 U.S. Average Sales Per Unit (thousands)</th>\n",
       "      <th>Number of Franchised Units in 2016</th>\n",
       "      <th>Number of Company Units in 2016</th>\n",
       "      <th>Total Units in 2016</th>\n",
       "    </tr>\n",
       "  </thead>\n",
       "  <tbody>\n",
       "    <tr>\n",
       "      <th>7</th>\n",
       "      <td>Chick-fil-A</td>\n",
       "      <td>Chicken</td>\n",
       "      <td>7973.50</td>\n",
       "      <td>4407.1</td>\n",
       "      <td>1730</td>\n",
       "      <td>372</td>\n",
       "      <td>2102</td>\n",
       "    </tr>\n",
       "    <tr>\n",
       "      <th>22</th>\n",
       "      <td>Whataburger</td>\n",
       "      <td>Burger</td>\n",
       "      <td>2181.35</td>\n",
       "      <td>2706.0</td>\n",
       "      <td>122</td>\n",
       "      <td>684</td>\n",
       "      <td>806</td>\n",
       "    </tr>\n",
       "    <tr>\n",
       "      <th>10</th>\n",
       "      <td>Panera Bread</td>\n",
       "      <td>Sandwich</td>\n",
       "      <td>5200.00</td>\n",
       "      <td>2700.0</td>\n",
       "      <td>1134</td>\n",
       "      <td>908</td>\n",
       "      <td>2042</td>\n",
       "    </tr>\n",
       "    <tr>\n",
       "      <th>42</th>\n",
       "      <td>Jason's Deli</td>\n",
       "      <td>Sandwich</td>\n",
       "      <td>646.59</td>\n",
       "      <td>2609.0</td>\n",
       "      <td>109</td>\n",
       "      <td>155</td>\n",
       "      <td>264</td>\n",
       "    </tr>\n",
       "    <tr>\n",
       "      <th>0</th>\n",
       "      <td>McDonald's</td>\n",
       "      <td>Burger</td>\n",
       "      <td>36389.00</td>\n",
       "      <td>2550.0</td>\n",
       "      <td>13046</td>\n",
       "      <td>1109</td>\n",
       "      <td>14155</td>\n",
       "    </tr>\n",
       "  </tbody>\n",
       "</table>\n",
       "</div>"
      ],
      "text/plain": [
       "         Company  Category  2016 U.S. Systemwide Sales (millions)  \\\n",
       "7    Chick-fil-A   Chicken                                7973.50   \n",
       "22   Whataburger    Burger                                2181.35   \n",
       "10  Panera Bread  Sandwich                                5200.00   \n",
       "42  Jason's Deli  Sandwich                                 646.59   \n",
       "0     McDonald's    Burger                               36389.00   \n",
       "\n",
       "    2016 U.S. Average Sales Per Unit (thousands)  \\\n",
       "7                                         4407.1   \n",
       "22                                        2706.0   \n",
       "10                                        2700.0   \n",
       "42                                        2609.0   \n",
       "0                                         2550.0   \n",
       "\n",
       "    Number of Franchised Units in 2016  Number of Company Units in 2016  \\\n",
       "7                                 1730                              372   \n",
       "22                                 122                              684   \n",
       "10                                1134                              908   \n",
       "42                                 109                              155   \n",
       "0                                13046                             1109   \n",
       "\n",
       "    Total Units in 2016  \n",
       "7                  2102  \n",
       "22                  806  \n",
       "10                 2042  \n",
       "42                  264  \n",
       "0                 14155  "
      ]
     },
     "execution_count": 77,
     "metadata": {},
     "output_type": "execute_result"
    }
   ],
   "source": [
    "# Starbucks locations: 13172 Sales: 363,890,000,000\n",
    "# McDonald's locations: 14155 Sales: 147,954,000,000\n",
    "\n",
    "top_5_sales_per_location"
   ]
  },
  {
   "cell_type": "code",
   "execution_count": 78,
   "metadata": {},
   "outputs": [
    {
     "data": {
      "text/html": [
       "<div>\n",
       "<style scoped>\n",
       "    .dataframe tbody tr th:only-of-type {\n",
       "        vertical-align: middle;\n",
       "    }\n",
       "\n",
       "    .dataframe tbody tr th {\n",
       "        vertical-align: top;\n",
       "    }\n",
       "\n",
       "    .dataframe thead th {\n",
       "        text-align: right;\n",
       "    }\n",
       "</style>\n",
       "<table border=\"1\" class=\"dataframe\">\n",
       "  <thead>\n",
       "    <tr style=\"text-align: right;\">\n",
       "      <th></th>\n",
       "      <th>2016 U.S. Systemwide Sales (millions)</th>\n",
       "      <th>2016 U.S. Average Sales Per Unit (thousands)</th>\n",
       "      <th>Number of Franchised Units in 2016</th>\n",
       "      <th>Number of Company Units in 2016</th>\n",
       "      <th>Total Units in 2016</th>\n",
       "    </tr>\n",
       "    <tr>\n",
       "      <th>Category</th>\n",
       "      <th></th>\n",
       "      <th></th>\n",
       "      <th></th>\n",
       "      <th></th>\n",
       "      <th></th>\n",
       "    </tr>\n",
       "  </thead>\n",
       "  <tbody>\n",
       "    <tr>\n",
       "      <th>Burger</th>\n",
       "      <td>75434.17</td>\n",
       "      <td>21850.08</td>\n",
       "      <td>36504</td>\n",
       "      <td>5116</td>\n",
       "      <td>41620</td>\n",
       "    </tr>\n",
       "    <tr>\n",
       "      <th>Chicken</th>\n",
       "      <td>21916.73</td>\n",
       "      <td>16343.87</td>\n",
       "      <td>10888</td>\n",
       "      <td>1993</td>\n",
       "      <td>12881</td>\n",
       "    </tr>\n",
       "    <tr>\n",
       "      <th>Ethnic</th>\n",
       "      <td>18948.90</td>\n",
       "      <td>9739.53</td>\n",
       "      <td>6886</td>\n",
       "      <td>5945</td>\n",
       "      <td>12831</td>\n",
       "    </tr>\n",
       "    <tr>\n",
       "      <th>Pizza</th>\n",
       "      <td>18508.41</td>\n",
       "      <td>4017.14</td>\n",
       "      <td>20267</td>\n",
       "      <td>2094</td>\n",
       "      <td>22401</td>\n",
       "    </tr>\n",
       "    <tr>\n",
       "      <th>Sandwich</th>\n",
       "      <td>24993.02</td>\n",
       "      <td>10721.38</td>\n",
       "      <td>35379</td>\n",
       "      <td>2287</td>\n",
       "      <td>37666</td>\n",
       "    </tr>\n",
       "    <tr>\n",
       "      <th>Seafood</th>\n",
       "      <td>544.43</td>\n",
       "      <td>1059.00</td>\n",
       "      <td>227</td>\n",
       "      <td>289</td>\n",
       "      <td>516</td>\n",
       "    </tr>\n",
       "    <tr>\n",
       "      <th>Snack</th>\n",
       "      <td>29018.01</td>\n",
       "      <td>5735.80</td>\n",
       "      <td>23907</td>\n",
       "      <td>7970</td>\n",
       "      <td>31877</td>\n",
       "    </tr>\n",
       "  </tbody>\n",
       "</table>\n",
       "</div>"
      ],
      "text/plain": [
       "          2016 U.S. Systemwide Sales (millions)  \\\n",
       "Category                                          \n",
       "Burger                                 75434.17   \n",
       "Chicken                                21916.73   \n",
       "Ethnic                                 18948.90   \n",
       "Pizza                                  18508.41   \n",
       "Sandwich                               24993.02   \n",
       "Seafood                                  544.43   \n",
       "Snack                                  29018.01   \n",
       "\n",
       "          2016 U.S. Average Sales Per Unit (thousands)  \\\n",
       "Category                                                 \n",
       "Burger                                        21850.08   \n",
       "Chicken                                       16343.87   \n",
       "Ethnic                                         9739.53   \n",
       "Pizza                                          4017.14   \n",
       "Sandwich                                      10721.38   \n",
       "Seafood                                        1059.00   \n",
       "Snack                                          5735.80   \n",
       "\n",
       "          Number of Franchised Units in 2016  Number of Company Units in 2016  \\\n",
       "Category                                                                        \n",
       "Burger                                 36504                             5116   \n",
       "Chicken                                10888                             1993   \n",
       "Ethnic                                  6886                             5945   \n",
       "Pizza                                  20267                             2094   \n",
       "Sandwich                               35379                             2287   \n",
       "Seafood                                  227                              289   \n",
       "Snack                                  23907                             7970   \n",
       "\n",
       "          Total Units in 2016  \n",
       "Category                       \n",
       "Burger                  41620  \n",
       "Chicken                 12881  \n",
       "Ethnic                  12831  \n",
       "Pizza                   22401  \n",
       "Sandwich                37666  \n",
       "Seafood                   516  \n",
       "Snack                   31877  "
      ]
     },
     "execution_count": 78,
     "metadata": {},
     "output_type": "execute_result"
    }
   ],
   "source": [
    "top_50.groupby(\"Category\").sum()"
   ]
  },
  {
   "cell_type": "code",
   "execution_count": 83,
   "metadata": {},
   "outputs": [
    {
     "data": {
      "text/html": [
       "<div>\n",
       "<style scoped>\n",
       "    .dataframe tbody tr th:only-of-type {\n",
       "        vertical-align: middle;\n",
       "    }\n",
       "\n",
       "    .dataframe tbody tr th {\n",
       "        vertical-align: top;\n",
       "    }\n",
       "\n",
       "    .dataframe thead th {\n",
       "        text-align: right;\n",
       "    }\n",
       "</style>\n",
       "<table border=\"1\" class=\"dataframe\">\n",
       "  <thead>\n",
       "    <tr style=\"text-align: right;\">\n",
       "      <th></th>\n",
       "      <th>state abbr</th>\n",
       "      <th>number of restaurants</th>\n",
       "      <th>poverty</th>\n",
       "      <th>povertyMoe</th>\n",
       "      <th>age</th>\n",
       "      <th>ageMoe</th>\n",
       "      <th>income</th>\n",
       "      <th>incomeMoe</th>\n",
       "      <th>healthcare</th>\n",
       "      <th>healthcareLow</th>\n",
       "      <th>healthcareHigh</th>\n",
       "      <th>obesity</th>\n",
       "      <th>obesityLow</th>\n",
       "      <th>obesityHigh</th>\n",
       "      <th>smokes</th>\n",
       "      <th>smokesLow</th>\n",
       "      <th>smokesHigh</th>\n",
       "      <th>rank</th>\n",
       "      <th>﻿State</th>\n",
       "      <th>population</th>\n",
       "    </tr>\n",
       "  </thead>\n",
       "  <tbody>\n",
       "    <tr>\n",
       "      <th>46</th>\n",
       "      <td>AK</td>\n",
       "      <td>16</td>\n",
       "      <td>11.2</td>\n",
       "      <td>0.9</td>\n",
       "      <td>33.3</td>\n",
       "      <td>0.3</td>\n",
       "      <td>71583</td>\n",
       "      <td>1784</td>\n",
       "      <td>15.0</td>\n",
       "      <td>13.3</td>\n",
       "      <td>16.6</td>\n",
       "      <td>29.7</td>\n",
       "      <td>27.8</td>\n",
       "      <td>31.6</td>\n",
       "      <td>19.9</td>\n",
       "      <td>18.2</td>\n",
       "      <td>21.6</td>\n",
       "      <td>48</td>\n",
       "      <td>Alaska</td>\n",
       "      <td>737438</td>\n",
       "    </tr>\n",
       "    <tr>\n",
       "      <th>49</th>\n",
       "      <td>AL</td>\n",
       "      <td>6</td>\n",
       "      <td>19.3</td>\n",
       "      <td>0.5</td>\n",
       "      <td>38.6</td>\n",
       "      <td>0.2</td>\n",
       "      <td>42830</td>\n",
       "      <td>598</td>\n",
       "      <td>13.9</td>\n",
       "      <td>12.7</td>\n",
       "      <td>15.1</td>\n",
       "      <td>33.5</td>\n",
       "      <td>32.1</td>\n",
       "      <td>35.0</td>\n",
       "      <td>21.1</td>\n",
       "      <td>19.8</td>\n",
       "      <td>22.5</td>\n",
       "      <td>24</td>\n",
       "      <td>Alabama</td>\n",
       "      <td>4887871</td>\n",
       "    </tr>\n",
       "    <tr>\n",
       "      <th>29</th>\n",
       "      <td>AR</td>\n",
       "      <td>102</td>\n",
       "      <td>18.9</td>\n",
       "      <td>0.5</td>\n",
       "      <td>37.8</td>\n",
       "      <td>0.2</td>\n",
       "      <td>41262</td>\n",
       "      <td>653</td>\n",
       "      <td>16.3</td>\n",
       "      <td>14.4</td>\n",
       "      <td>18.2</td>\n",
       "      <td>35.9</td>\n",
       "      <td>33.8</td>\n",
       "      <td>38.0</td>\n",
       "      <td>24.7</td>\n",
       "      <td>22.7</td>\n",
       "      <td>26.7</td>\n",
       "      <td>33</td>\n",
       "      <td>Arkansas</td>\n",
       "      <td>3013825</td>\n",
       "    </tr>\n",
       "    <tr>\n",
       "      <th>9</th>\n",
       "      <td>AZ</td>\n",
       "      <td>330</td>\n",
       "      <td>18.2</td>\n",
       "      <td>0.4</td>\n",
       "      <td>36.9</td>\n",
       "      <td>0.1</td>\n",
       "      <td>50068</td>\n",
       "      <td>483</td>\n",
       "      <td>14.4</td>\n",
       "      <td>13.3</td>\n",
       "      <td>15.6</td>\n",
       "      <td>28.9</td>\n",
       "      <td>27.7</td>\n",
       "      <td>30.2</td>\n",
       "      <td>16.5</td>\n",
       "      <td>15.4</td>\n",
       "      <td>17.6</td>\n",
       "      <td>14</td>\n",
       "      <td>Arizona</td>\n",
       "      <td>7171646</td>\n",
       "    </tr>\n",
       "    <tr>\n",
       "      <th>0</th>\n",
       "      <td>CA</td>\n",
       "      <td>1201</td>\n",
       "      <td>16.4</td>\n",
       "      <td>0.2</td>\n",
       "      <td>36.0</td>\n",
       "      <td>0.1</td>\n",
       "      <td>61933</td>\n",
       "      <td>238</td>\n",
       "      <td>14.8</td>\n",
       "      <td>13.8</td>\n",
       "      <td>15.8</td>\n",
       "      <td>24.7</td>\n",
       "      <td>23.5</td>\n",
       "      <td>25.9</td>\n",
       "      <td>12.9</td>\n",
       "      <td>11.9</td>\n",
       "      <td>13.8</td>\n",
       "      <td>1</td>\n",
       "      <td>California</td>\n",
       "      <td>39557045</td>\n",
       "    </tr>\n",
       "  </tbody>\n",
       "</table>\n",
       "</div>"
      ],
      "text/plain": [
       "   state abbr  number of restaurants  poverty  povertyMoe   age  ageMoe  \\\n",
       "46         AK                     16     11.2         0.9  33.3     0.3   \n",
       "49         AL                      6     19.3         0.5  38.6     0.2   \n",
       "29         AR                    102     18.9         0.5  37.8     0.2   \n",
       "9          AZ                    330     18.2         0.4  36.9     0.1   \n",
       "0          CA                   1201     16.4         0.2  36.0     0.1   \n",
       "\n",
       "    income  incomeMoe  healthcare  healthcareLow  healthcareHigh  obesity  \\\n",
       "46   71583       1784        15.0           13.3            16.6     29.7   \n",
       "49   42830        598        13.9           12.7            15.1     33.5   \n",
       "29   41262        653        16.3           14.4            18.2     35.9   \n",
       "9    50068        483        14.4           13.3            15.6     28.9   \n",
       "0    61933        238        14.8           13.8            15.8     24.7   \n",
       "\n",
       "    obesityLow  obesityHigh  smokes  smokesLow  smokesHigh  rank      ﻿State  \\\n",
       "46        27.8         31.6    19.9       18.2        21.6    48      Alaska   \n",
       "49        32.1         35.0    21.1       19.8        22.5    24     Alabama   \n",
       "29        33.8         38.0    24.7       22.7        26.7    33    Arkansas   \n",
       "9         27.7         30.2    16.5       15.4        17.6    14     Arizona   \n",
       "0         23.5         25.9    12.9       11.9        13.8     1  California   \n",
       "\n",
       "    population  \n",
       "46      737438  \n",
       "49     4887871  \n",
       "29     3013825  \n",
       "9      7171646  \n",
       "0     39557045  "
      ]
     },
     "execution_count": 83,
     "metadata": {},
     "output_type": "execute_result"
    }
   ],
   "source": [
    "demo.sort_values(by = \"state abbr\").head()"
   ]
  },
  {
   "cell_type": "code",
   "execution_count": 84,
   "metadata": {},
   "outputs": [
    {
     "data": {
      "text/plain": [
       "0.3125"
      ]
     },
     "execution_count": 84,
     "metadata": {},
     "output_type": "execute_result"
    }
   ],
   "source": [
    "# Alaska has five sandwich shops: 4 Subways and a Quizno's, and only 16 restaurants listed\n",
    "# Most popular category is sandwich\n",
    "5/16"
   ]
  },
  {
   "cell_type": "code",
   "execution_count": 85,
   "metadata": {},
   "outputs": [
    {
     "data": {
      "text/plain": [
       "159792"
      ]
     },
     "execution_count": 85,
     "metadata": {},
     "output_type": "execute_result"
    }
   ],
   "source": [
    "top_50[\"Total Units in 2016\"].sum()"
   ]
  },
  {
   "cell_type": "code",
   "execution_count": 87,
   "metadata": {},
   "outputs": [
    {
     "ename": "TypeError",
     "evalue": "'int' object is not callable",
     "output_type": "error",
     "traceback": [
      "\u001b[0;31m---------------------------------------------------------------------------\u001b[0m",
      "\u001b[0;31mTypeError\u001b[0m                                 Traceback (most recent call last)",
      "\u001b[0;32m<ipython-input-87-bd06056b218f>\u001b[0m in \u001b[0;36m<module>\u001b[0;34m\u001b[0m\n\u001b[0;32m----> 1\u001b[0;31m \u001b[0mdf\u001b[0m\u001b[0;34m.\u001b[0m\u001b[0mstate\u001b[0m\u001b[0;34m.\u001b[0m\u001b[0msize\u001b[0m\u001b[0;34m(\u001b[0m\u001b[0;34m)\u001b[0m\u001b[0;34m.\u001b[0m\u001b[0mnsmallest\u001b[0m\u001b[0;34m(\u001b[0m\u001b[0;34m)\u001b[0m\u001b[0;34m\u001b[0m\u001b[0;34m\u001b[0m\u001b[0m\n\u001b[0m",
      "\u001b[0;31mTypeError\u001b[0m: 'int' object is not callable"
     ]
    }
   ],
   "source": [
    "df.state.size().nsmallest()"
   ]
  },
  {
   "cell_type": "code",
   "execution_count": null,
   "metadata": {},
   "outputs": [],
   "source": []
  }
 ],
 "metadata": {
  "kernelspec": {
   "display_name": "Python 3",
   "language": "python",
   "name": "python3"
  },
  "language_info": {
   "codemirror_mode": {
    "name": "ipython",
    "version": 3
   },
   "file_extension": ".py",
   "mimetype": "text/x-python",
   "name": "python",
   "nbconvert_exporter": "python",
   "pygments_lexer": "ipython3",
   "version": "3.6.9"
  }
 },
 "nbformat": 4,
 "nbformat_minor": 2
}
